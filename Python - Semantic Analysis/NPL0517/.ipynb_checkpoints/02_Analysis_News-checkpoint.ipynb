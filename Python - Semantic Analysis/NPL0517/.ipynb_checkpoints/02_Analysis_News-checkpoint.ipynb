{
 "cells": [
  {
   "cell_type": "markdown",
   "metadata": {},
   "source": [
    "## Download News From Website"
   ]
  },
  {
   "cell_type": "code",
   "execution_count": 6,
   "metadata": {},
   "outputs": [],
   "source": [
    "# import function to get news contents\n",
    "%run GetNewsFun.ipynb"
   ]
  },
  {
   "cell_type": "code",
   "execution_count": 7,
   "metadata": {},
   "outputs": [],
   "source": [
    "SearchString = '離岸風電'\n",
    "StartDate = '20190301'\n",
    "EndDate = '20190430'"
   ]
  },
  {
   "cell_type": "code",
   "execution_count": 4,
   "metadata": {},
   "outputs": [
    {
     "name": "stdout",
     "output_type": "stream",
     "text": [
      "20190429_離岸風電機是啥　台大研究生用VR告訴你\n",
      "20190427_【廢核遊行】蔡、賴同場未同框　賴清德：早上高雄有活動較晚到\n",
      "20190427_【廢核遊行】不讓「核電復辟」　經部：不走回頭路\n",
      "20190425_黨內初選見權謀　外交官：不甘心台灣就這樣毀掉\n",
      "20190418_沃旭離岸風電在地化卡關　經長：下周三前討論解套方案\n",
      "20190407_沃旭彰化離岸風電計劃耗資6棟101大樓有錢景　卡在政治力\n",
      "20190403_工總投資高雄1598億元　許立明：陳菊任內啟動\n",
      "20190327_彰化300公頃良田命運仍未知　二林精機園區環評打延長賽\n",
      "20190326_能源局長林全能升經部常次　4/1上任\n",
      "20190322_沈榮津：不是我不用核能　大家要核能卻沒人要核廢料\n",
      "20190322_【蘋果頭家】拼命三郎部長　沈榮津：對不起家人\n",
      "20190322_經濟部長 沈榮津 擁核拒核廢 卻都要我負責\n",
      "20190322_央行砍今年經濟成長 首季理監事會 利率連11凍\n",
      "20190321_利率連11凍！央行宣布重貼現率維持1.375%\n",
      "20190321_台灣港勤公司與歐洲NOS合作　培訓離岸風電工作船員\n",
      "20190320_死當敗部復活首例！福海離岸風電通過環評\n",
      "20190320_選前凍漲選後漲？沈榮津：今年電價沒上漲壓力\n",
      "20190319_張善政看賴清德挑戰前老闆！「是我也會出來」\n",
      "20190318_智慧區域電網來解尖峰負載危機（拱祥生）\n",
      "20190318_拱祥生：智慧區域電網來解尖峰負載危機\n",
      "20190314_【名采】阮慶岳專欄：看風水\n",
      "20190313_首例！「死當」環評訴願竟成功　福海離岸風電「敗部復活」\n",
      "20190312_​蔡政府能源政策的全民代價\n",
      "20190311_反核大將提廢核四公投　要跟擁核「直球對決」\n",
      "20190308_東元集團徵才300人　月薪最高45K\n",
      "20190307_全球離岸風電新建以500GW為目標　WFO邀台廠加入\n",
      "20190306_林伯豐讚韓國瑜　建議政府降稅拚經濟\n",
      "done all\n"
     ]
    }
   ],
   "source": [
    "appleNews(SearchString, StartDate, EndDate, rep=None)"
   ]
  },
  {
   "cell_type": "code",
   "execution_count": 1,
   "metadata": {},
   "outputs": [],
   "source": [
    "import tensorflow as tf\n",
    "from tensorflow.keras.preprocessing.sequence import pad_sequences"
   ]
  },
  {
   "cell_type": "code",
   "execution_count": 2,
   "metadata": {},
   "outputs": [
    {
     "name": "stdout",
     "output_type": "stream",
     "text": [
      "WARNING:tensorflow:From d:\\Anaconda3\\envs\\envNews\\lib\\site-packages\\tensorflow\\python\\ops\\resource_variable_ops.py:435: colocate_with (from tensorflow.python.framework.ops) is deprecated and will be removed in a future version.\n",
      "Instructions for updating:\n",
      "Colocations handled automatically by placer.\n",
      "WARNING:tensorflow:From d:\\Anaconda3\\envs\\envNews\\lib\\site-packages\\tensorflow\\python\\ops\\math_ops.py:3066: to_int32 (from tensorflow.python.ops.math_ops) is deprecated and will be removed in a future version.\n",
      "Instructions for updating:\n",
      "Use tf.cast instead.\n"
     ]
    }
   ],
   "source": [
    "model = tf.keras.models.load_model('my_model.h5')"
   ]
  },
  {
   "cell_type": "code",
   "execution_count": 10,
   "metadata": {},
   "outputs": [
    {
     "name": "stdout",
     "output_type": "stream",
     "text": [
      "20190306 林伯豐讚韓國瑜建議政府降稅拚經濟\n",
      "170\n",
      "是一例负面评价 output=0.29\n",
      "20190307 全球離岸風電新建以500GW為目標WFO邀台廠加入\n",
      "171\n",
      "是一例负面评价 output=0.34\n",
      "20190308 東元集團徵才300人月薪最高45K\n",
      "147\n",
      "是一例负面评价 output=0.19\n",
      "20190311 反核大將提廢核四公投要跟擁核「直球對決」\n",
      "282\n",
      "是一例负面评价 output=0.39\n",
      "20190312 ​蔡政府能源政策的全民代價\n",
      "371\n",
      "是一例负面评价 output=0.14\n",
      "20190313 首例「死當」環評訴願竟成功福海離岸風電「敗部復活」\n",
      "416\n",
      "是一例负面评价 output=0.15\n",
      "20190314 【名采】阮慶岳專欄：看風水\n",
      "263\n",
      "是一例负面评价 output=0.14\n",
      "20190318 拱祥生：智慧區域電網來解尖峰負載危機\n",
      "528\n",
      "是一例负面评价 output=0.29\n",
      "20190318 智慧區域電網來解尖峰負載危機拱祥生\n",
      "96\n",
      "是一例负面评价 output=0.30\n",
      "20190319 張善政看賴清德挑戰前老闆「是我也會出來」\n",
      "311\n",
      "是一例负面评价 output=0.13\n",
      "20190320 死當敗部復活首例福海離岸風電通過環評\n",
      "345\n",
      "是一例负面评价 output=0.14\n",
      "20190320 選前凍漲選後漲？沈榮津：今年電價沒上漲壓力\n",
      "186\n",
      "是一例负面评价 output=0.15\n",
      "20190321 利率連11凍央行宣布重貼現率維持1375\n",
      "233\n",
      "是一例负面评价 output=0.11\n",
      "20190321 台灣港勤公司與歐洲NOS合作培訓離岸風電工作船員\n",
      "243\n",
      "是一例负面评价 output=0.21\n",
      "20190322 【蘋果頭家】拼命三郎部長沈榮津：對不起家人\n",
      "570\n",
      "是一例负面评价 output=0.15\n",
      "20190322 央行砍今年經濟成長首季理監事會利率連11凍\n",
      "33\n",
      "是一例负面评价 output=0.23\n",
      "20190322 沈榮津：不是我不用核能大家要核能卻沒人要核廢料\n",
      "880\n",
      "是一例负面评价 output=0.11\n",
      "20190322 經濟部長沈榮津擁核拒核廢卻都要我負責\n",
      "54\n",
      "是一例负面评价 output=0.19\n",
      "20190326 能源局長林全能升經部常次41上任\n",
      "172\n",
      "是一例负面评价 output=0.27\n",
      "20190327 彰化300公頃良田命運仍未知二林精機園區環評打延長賽\n",
      "746\n",
      "是一例负面评价 output=0.28\n",
      "20190403 工總投資高雄1598億元許立明：陳菊任內啟動\n",
      "371\n",
      "是一例负面评价 output=0.29\n",
      "20190407 沃旭彰化離岸風電計劃耗資6棟101大樓有錢景卡在政治力\n",
      "411\n",
      "是一例负面评价 output=0.23\n",
      "20190418 沃旭離岸風電在地化卡關經長：下周三前討論解套方案\n",
      "226\n",
      "是一例负面评价 output=0.14\n",
      "20190425 黨內初選見權謀外交官：不甘心台灣就這樣毀掉\n",
      "431\n",
      "是一例负面评价 output=0.15\n",
      "20190427 【廢核遊行】不讓「核電復辟」經部：不走回頭路\n",
      "577\n",
      "是一例负面评价 output=0.25\n",
      "20190427 【廢核遊行】蔡賴同場未同框賴清德：早上高雄有活動較晚到\n",
      "323\n",
      "是一例负面评价 output=0.26\n",
      "20190429 離岸風電機是啥台大研究生用VR告訴你\n",
      "189\n",
      "是一例负面评价 output=0.16\n"
     ]
    }
   ],
   "source": [
    "import re\n",
    "from zhconv import convert\n",
    "import jieba\n",
    "\n",
    "\n",
    "stopWords=[]\n",
    "\n",
    "# 讀入停用詞檔\n",
    "with open('stopWords.txt', 'r', encoding='UTF-8') as file:\n",
    "    for data in file.readlines():\n",
    "        data = data.strip()\n",
    "        stopWords.append(data)\n",
    "\n",
    "news_folder_name = SearchString\n",
    "\n",
    "filename_list = os.listdir(news_folder_name)\n",
    "\n",
    "for filename in filename_list:\n",
    "    with open(news_folder_name + '/'+ filename, encoding='UTF-8', errors='ignore') as f:\n",
    "        news_text = f.read()\n",
    "        date, title,_ = re.split(r\"[_.]\", filename)\n",
    "        print (date, title)\n",
    "        f.close()\n",
    "\n",
    "    news_text_cn = convert(news_text, 'zh-cn')\n",
    "    \n",
    "    # #剔除所有符號\n",
    "    symbol_regex = '[’!\"#$%&\\'()*+,-./:;<=>?@[\\\\]^_`{|}~]+）（'\n",
    "\n",
    "    # #剔除所有數字\n",
    "    decimal_regex = re.compile(r\"[^a-zA-Z]\\d+\")\n",
    "\n",
    "    # #剔除空格\n",
    "    space_regex = re.compile(r\"\\s+\")\n",
    "\n",
    "    comment_text = news_text_cn.strip()\n",
    "\n",
    "    comment_text = re.sub(symbol_regex, '', comment_text)\n",
    "    comment_text = decimal_regex.sub(r\"\", comment_text)\n",
    "    comment_text = space_regex.sub(r\"\", comment_text)\n",
    "\n",
    "    comment_text_cut = jieba.cut(comment_text,cut_all=False)\n",
    "\n",
    "    remainderWords = list(filter(lambda a: a not in stopWords and a != '\\n', comment_text_cut))\n",
    "\n",
    "    token_dict = json.load(open(\"words_token_dict.txt\")) \n",
    "    \n",
    "    \n",
    "    news_text_cn_token = [[]]\n",
    "    \n",
    "    for j, word in enumerate(remainderWords):\n",
    "        try:\n",
    "            # 將詞轉為token之索引\n",
    "            news_text_cn_token[0].append(token_dict[word])\n",
    "        except KeyError:\n",
    "            # 如果詞不在token中，索引為0\n",
    "            news_text_cn_token[0].append(0)\n",
    "            \n",
    "    print (len(news_text_cn_token[0]))\n",
    "    \n",
    "    news_text_cn_token_pad = pad_sequences(news_text_cn_token,\n",
    "                                           maxlen=145,\n",
    "                                           padding='pre',\n",
    "                                           truncating='pre')\n",
    "    \n",
    "\n",
    "    result = model.predict(x=news_text_cn_token_pad)\n",
    "    coef = result[0][0]\n",
    "    if coef >= 0.5:\n",
    "        print('是一例正面评价','output=%.2f'%coef)\n",
    "    else:\n",
    "        print('是一例负面评价','output=%.2f'%coef)"
   ]
  },
  {
   "cell_type": "markdown",
   "metadata": {},
   "source": [
    "## Predict Sentiment by Model"
   ]
  },
  {
   "cell_type": "code",
   "execution_count": null,
   "metadata": {},
   "outputs": [],
   "source": []
  }
 ],
 "metadata": {
  "kernelspec": {
   "display_name": "Python 3",
   "language": "python",
   "name": "python3"
  },
  "language_info": {
   "codemirror_mode": {
    "name": "ipython",
    "version": 3
   },
   "file_extension": ".py",
   "mimetype": "text/x-python",
   "name": "python",
   "nbconvert_exporter": "python",
   "pygments_lexer": "ipython3",
   "version": "3.7.1"
  }
 },
 "nbformat": 4,
 "nbformat_minor": 2
}
