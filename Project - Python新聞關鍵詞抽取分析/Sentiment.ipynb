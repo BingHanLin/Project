{
 "cells": [
  {
   "cell_type": "code",
   "execution_count": 17,
   "metadata": {},
   "outputs": [],
   "source": [
    "import pandas as pd\n",
    "import jieba"
   ]
  },
  {
   "cell_type": "code",
   "execution_count": 18,
   "metadata": {},
   "outputs": [],
   "source": [
    "sentiment_table = pd.read_excel('./情感詞典.xlsx',sheet_name='Sheet1')\n",
    "sentiment_table.drop(['Unnamed: 10','Unnamed: 11'],inplace=True,axis=1)\n",
    "pos_table = pd.read_excel('./情感詞典.xlsx',sheet_name='Sheet2', header=None)\n",
    "neg_table = pd.read_excel('./情感詞典.xlsx',sheet_name='Sheet3', header=None)"
   ]
  },
  {
   "cell_type": "code",
   "execution_count": 20,
   "metadata": {},
   "outputs": [],
   "source": [
    "pos_table.columns = [\"posword\", \"score\"]\n",
    "neg_table.columns = [\"negword\", \"score\"]\n",
    "\n",
    "pos_dict = dict(zip(list(pos_table.posword),list(pos_table.score)))\n",
    "\n",
    "neg_dict = dict(zip(list(neg_table.negword),map(lambda a:a*(0-1),list(neg_table.score)) ))\n",
    "\n",
    "sentiment_dict = {**pos_dict,**neg_dict}"
   ]
  },
  {
   "cell_type": "code",
   "execution_count": 21,
   "metadata": {},
   "outputs": [
    {
     "name": "stderr",
     "output_type": "stream",
     "text": [
      "Building prefix dict from the default dictionary ...\n",
      "Dumping model to file cache C:\\Users\\BENLIN~1\\AppData\\Local\\Temp\\jieba.cache\n",
      "Loading model cost 0.945 seconds.\n",
      "Prefix dict has been built succesfully.\n"
     ]
    }
   ],
   "source": [
    "for w in sentiment_dict.keys():\n",
    "    jieba.suggest_freq(w,True)"
   ]
  },
  {
   "cell_type": "code",
   "execution_count": 29,
   "metadata": {},
   "outputs": [],
   "source": [
    "# stop_words = [re.findall(r'\\S+',w)[0] for w in open('./txt/stopwords_ch.txt',encoding='utf8').readlines() if len(re.findall(r'\\S+',w))>0]\n",
    "\n",
    "def sent2word(sentence):\n",
    "    words = jieba.cut(sentence, HMM=False)\n",
    "#     words = [w for w in words if w not in stop_words]\n",
    "    words = [w for w in words]\n",
    "    return words"
   ]
  },
  {
   "cell_type": "code",
   "execution_count": 30,
   "metadata": {},
   "outputs": [],
   "source": [
    "def get_sentiment(sent):\n",
    "    tokens = sent2word(sent)\n",
    "    score = 0\n",
    "    countword = 0\n",
    "    \n",
    "    for w in tokens:\n",
    "        \n",
    "        if w in sentment_dict.keys():\n",
    "            score += sentment_dict[w]\n",
    "            countword += 1\n",
    "            \n",
    "    if countword != 0:\n",
    "        return score/countword\n",
    "    else:\n",
    "        return 0\n",
    "    "
   ]
  },
  {
   "cell_type": "code",
   "execution_count": 38,
   "metadata": {},
   "outputs": [
    {
     "data": {
      "text/plain": [
       "1.8"
      ]
     },
     "execution_count": 38,
     "metadata": {},
     "output_type": "execute_result"
    }
   ],
   "source": [
    "sent =\"我覺得海豚很呆\"\n",
    "get_sentiment(sent)"
   ]
  },
  {
   "cell_type": "code",
   "execution_count": null,
   "metadata": {},
   "outputs": [],
   "source": []
  }
 ],
 "metadata": {
  "kernelspec": {
   "display_name": "Python 3",
   "language": "python",
   "name": "python3"
  },
  "language_info": {
   "codemirror_mode": {
    "name": "ipython",
    "version": 3
   },
   "file_extension": ".py",
   "mimetype": "text/x-python",
   "name": "python",
   "nbconvert_exporter": "python",
   "pygments_lexer": "ipython3",
   "version": "3.6.5"
  }
 },
 "nbformat": 4,
 "nbformat_minor": 2
}
