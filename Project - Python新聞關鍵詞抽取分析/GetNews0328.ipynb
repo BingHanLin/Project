{
 "cells": [
  {
   "cell_type": "markdown",
   "metadata": {},
   "source": [
    "## Import libaray"
   ]
  },
  {
   "cell_type": "code",
   "execution_count": 2,
   "metadata": {},
   "outputs": [],
   "source": [
    "from bs4 import BeautifulSoup\n",
    "from PIL import Image\n",
    "\n",
    "import requests, json\n",
    "import datetime\n",
    "import re\n",
    "import jieba.analyse\n",
    "import glob, os\n",
    "import time"
   ]
  },
  {
   "cell_type": "markdown",
   "metadata": {},
   "source": [
    "## Download data from Appledaily News"
   ]
  },
  {
   "cell_type": "markdown",
   "metadata": {},
   "source": [
    "### Define searching topic and time range"
   ]
  },
  {
   "cell_type": "code",
   "execution_count": 3,
   "metadata": {},
   "outputs": [],
   "source": [
    "SearchString = \"離岸風電\"\n",
    "StartDate_Str = '20181220'\n",
    "EndDate_Str = '20181225'\n",
    "\n",
    "StartDate = datetime.datetime.strptime(StartDate_Str,'%Y%m%d')\n",
    "EndDate = datetime.datetime.strptime(EndDate_Str,'%Y%m%d')"
   ]
  },
  {
   "cell_type": "markdown",
   "metadata": {},
   "source": [
    "### Define desired replacements for non-chinese words"
   ]
  },
  {
   "cell_type": "code",
   "execution_count": 4,
   "metadata": {},
   "outputs": [],
   "source": [
    "rep = {\n",
    "        \"GW\": \"兆瓦\", \n",
    "        \"MW\": \"萬千瓦\", \n",
    "        \"0\": \"零\",\n",
    "        \"1\": \"一\",\n",
    "        \"2\": \"二\",\n",
    "        \"3\": \"三\",\n",
    "        \"4\": \"四\",\n",
    "        \"5\": \"五\",\n",
    "        \"6\": \"六\",\n",
    "        \"7\": \"七\",\n",
    "        \"8\": \"八\",\n",
    "        \"8\": \"九\" \n",
    "      }"
   ]
  },
  {
   "cell_type": "markdown",
   "metadata": {},
   "source": [
    "### Function to save data"
   ]
  },
  {
   "cell_type": "code",
   "execution_count": 5,
   "metadata": {},
   "outputs": [],
   "source": [
    "def saveData(SaveFolder, SaveTitle, SaveArticleDate, SaveContentText):\n",
    "\n",
    "    SaveTitle = re.sub(\"[\\s+\\.\\!\\/_,$%^*(+\\\"\\']+|[+——！，。?、~@#￥%……&*（）]+：\", \"\", SaveTitle)\n",
    "\n",
    "    if not os.path.exists(SaveFolder):\n",
    "        os.makedirs(SaveFolder)    \n",
    "    \n",
    "    try:\n",
    "        with open(\"{0}\\{1}_{2}.txt\".format(SaveFolder, SaveArticleDate, SaveTitle),\n",
    "                  \"w\", encoding = 'utf8') as text_file:  \n",
    "            text_file.write(SaveContentText)\n",
    "    except:\n",
    "        pass\n",
    " \n",
    "    print (\"儲存: {0}_{1}\".format(SaveArticleDate, SaveTitle))\n",
    "    "
   ]
  },
  {
   "cell_type": "markdown",
   "metadata": {},
   "source": [
    "### Import news function"
   ]
  },
  {
   "cell_type": "code",
   "execution_count": 8,
   "metadata": {},
   "outputs": [],
   "source": [
    "%run GetNewsFun.ipynb"
   ]
  },
  {
   "cell_type": "code",
   "execution_count": 9,
   "metadata": {},
   "outputs": [
    {
     "name": "stdout",
     "output_type": "stream",
     "text": [
      "儲存: 20181225_躉購費率調降業者怒經濟部：蒐集意見後才會討論拍板\n",
      "儲存: 20181225_躉購費率爭議不斷經濟部：一月底公告抵定\n",
      "儲存: 20181225_再生能源躉購費率聽證會登場從業勞工穿黃背心陳情\n",
      "done all\n"
     ]
    }
   ],
   "source": [
    "appleNews(SearchString, StartDate, EndDate, rep)"
   ]
  },
  {
   "cell_type": "code",
   "execution_count": 46,
   "metadata": {},
   "outputs": [
    {
     "name": "stdout",
     "output_type": "stream",
     "text": [
      "2019-03-28 12:10:00\n",
      "2019-03-24 10:40:00\n",
      "2019-03-24 10:24:00\n",
      "2019-03-21 19:46:00\n",
      "2019-03-21 17:10:00\n",
      "2019-03-20 20:31:00\n",
      "2019-03-20 18:02:00\n",
      "2019-03-20 14:12:00\n",
      "2019-03-20 11:19:00\n",
      "2019-03-20 09:52:00\n",
      "2019-03-18 19:12:00\n",
      "2019-03-15 21:30:00\n",
      "2019-03-14 15:46:00\n",
      "2019-03-14 14:09:00\n",
      "2019-03-13 15:22:00\n",
      "2019-03-13 12:29:00\n",
      "2019-03-13 09:31:00\n",
      "2019-03-12 18:11:00\n",
      "2019-03-12 17:25:00\n",
      "2019-03-08 12:49:00\n",
      "2019-03-06 17:49:00\n",
      "2019-03-03 15:02:00\n",
      "2019-02-23 20:07:00\n",
      "2019-02-23 16:04:00\n",
      "2019-02-21 20:50:00\n",
      "2019-02-20 16:46:00\n",
      "2019-02-19 11:28:00\n",
      "2019-02-15 21:36:00\n",
      "2019-02-14 19:30:00\n",
      "2019-02-13 13:59:00\n",
      "2019-02-12 19:27:00\n",
      "2019-02-12 11:40:00\n",
      "2019-02-11 13:21:00\n",
      "2019-02-11 14:01:00\n",
      "2019-02-11 10:00:00\n",
      "2019-01-31 21:06:00\n",
      "2019-01-31 20:03:00\n",
      "2019-01-31 15:34:00\n",
      "2019-01-31 15:13:00\n",
      "2019-01-31 13:42:00\n",
      "2019-01-31 13:36:00\n",
      "2019-01-31 10:24:00\n",
      "2019-01-30 22:31:00\n",
      "2019-01-30 19:37:00\n",
      "2019-01-30 19:05:00\n",
      "2019-01-30 18:59:00\n",
      "2019-01-30 18:10:00\n",
      "2019-01-30 18:03:00\n",
      "2019-01-30 16:18:00\n",
      "2019-01-30 14:15:00\n",
      "2019-01-29 18:59:00\n",
      "2019-01-29 15:05:00\n",
      "2019-01-28 21:25:00\n",
      "2019-01-28 21:09:00\n",
      "2019-01-28 14:19:00\n",
      "2019-01-28 11:57:00\n",
      "2019-01-26 17:35:00\n",
      "2019-01-25 15:27:00\n",
      "2019-01-25 15:04:00\n",
      "2019-01-24 22:38:00\n",
      "2019-01-24 19:00:00\n",
      "2019-01-24 15:11:00\n",
      "2019-01-24 10:37:00\n",
      "2019-01-23 22:26:00\n",
      "2019-01-23 15:36:00\n",
      "2019-01-23 15:05:00\n",
      "2019-01-23 15:27:00\n",
      "2019-01-23 15:13:00\n",
      "2019-01-23 14:52:00\n",
      "2019-01-23 11:39:00\n",
      "2019-01-22 23:04:00\n",
      "2019-01-22 19:54:00\n",
      "2019-01-22 18:06:00\n",
      "2019-01-22 15:35:00\n",
      "2019-01-22 12:16:00\n",
      "2019-01-21 16:02:00\n",
      "2019-01-20 17:55:00\n",
      "2019-01-19 22:26:00\n",
      "2019-01-19 18:47:00\n",
      "2019-01-19 18:13:00\n",
      "2019-01-19 17:57:00\n",
      "2019-01-19 15:51:00\n",
      "2019-01-19 14:06:00\n",
      "2019-01-19 12:31:00\n",
      "2019-01-18 17:27:00\n",
      "2019-01-18 12:18:00\n",
      "2019-01-16 10:43:00\n",
      "2019-01-16 08:42:00\n",
      "2019-01-15 21:13:00\n",
      "2019-01-14 16:34:00\n",
      "2019-01-14 11:50:00\n",
      "2019-01-13 19:36:00\n",
      "2019-01-11 22:05:00\n",
      "2019-01-11 21:03:00\n",
      "2019-01-10 15:29:00\n",
      "2019-01-10 12:17:00\n",
      "2019-01-09 19:15:00\n",
      "2019-01-09 15:27:00\n",
      "2019-01-06 08:31:00\n",
      "2019-01-04 20:28:00\n",
      "2019-01-04 19:03:00\n",
      "2019-01-03 19:32:00\n",
      "2019-01-03 18:55:00\n",
      "2019-01-03 16:22:00\n",
      "2019-01-03 11:33:00\n",
      "2019-01-03 10:42:00\n",
      "2019-01-03 11:07:00\n",
      "2019-01-02 21:10:00\n",
      "2019-01-02 21:07:00\n",
      "2019-01-02 16:19:00\n",
      "2019-01-02 13:21:00\n",
      "2019-01-02 14:13:00\n",
      "2019-01-02 11:12:00\n",
      "2019-01-01 20:58:00\n",
      "2018-12-31 20:23:00\n",
      "2018-12-29 17:05:00\n",
      "2018-12-29 12:11:00\n",
      "2018-12-28 16:07:00\n",
      "2018-12-28 16:24:00\n",
      "2018-12-28 13:03:00\n",
      "2018-12-28 11:31:00\n",
      "2018-12-26 16:25:00\n",
      "2018-12-26 14:57:00\n",
      "2018-12-25 19:22:00\n",
      "2018-12-25 10:33:00\n",
      "2018-12-22 14:26:00\n",
      "儲存: 2018/12/22 14:26_台股守住9600點成交值創近2年新低\n",
      "2018-12-22 11:29:00\n",
      "儲存: 2018/12/22 11:29_風電概念股給力台股盤中力守9600點\n",
      "2018-12-22 11:14:00\n",
      "儲存: 2018/12/22 11:14_彰化離岸風電7案過關概念股齊揚\n",
      "2018-12-22 08:25:00\n",
      "儲存: 2018/12/22 08:25_台股補班獨家開市恐回測9600點支撐\n",
      "2018-12-21 17:29:00\n",
      "儲存: 2018/12/21 17:29_彰化離岸風電7案內政部海審會通過\n",
      "2018-12-21 15:50:00\n",
      "儲存: 2018/12/21 15:50_視察金門大橋賴揆：對台灣工程具重大意義\n",
      "2018-12-21 13:11:00\n",
      "儲存: 2018/12/21 13:11_躉購費率擬取消階梯式學者：不利推動綠色金融\n",
      "2018-12-20 13:04:00\n",
      "儲存: 2018/12/20 13:04_台美離岸風電價差大經部：成本結構不同\n",
      "2018-12-19 19:10:00\n",
      "2018-12-19 17:26:00\n",
      "2018-12-19 14:32:00\n",
      "2018-12-19 13:04:00\n",
      "2018-12-18 13:17:00\n",
      "2018-12-17 17:27:00\n",
      "2018-12-13 21:39:00\n",
      "done all\n"
     ]
    }
   ],
   "source": [
    "cnaNews(SearchString, StartDate, EndDate, rep)"
   ]
  },
  {
   "cell_type": "code",
   "execution_count": 2,
   "metadata": {},
   "outputs": [
    {
     "name": "stderr",
     "output_type": "stream",
     "text": [
      "Building prefix dict from the default dictionary ...\n",
      "Loading model from cache C:\\Users\\jagua\\AppData\\Local\\Temp\\jieba.cache\n",
      "Loading model cost 1.611 seconds.\n",
      "Prefix dict has been built succesfully.\n"
     ]
    },
    {
     "name": "stdout",
     "output_type": "stream",
     "text": [
      "done\n"
     ]
    }
   ],
   "source": [
    "# os.chdir(\".\")\n",
    "words_list = []\n",
    "os.chdir(\"離岸風電\")\n",
    "for file in glob.glob(\"*.txt\"):\n",
    "    \n",
    "    with open( file, \"rb\") as f:\n",
    "        for line in f:\n",
    "            tags = jieba.analyse.extract_tags(line, topK=10, withWeight=True)\n",
    "            for tag, weight in tags:\n",
    "                words_list.append(tag)\n",
    "                \n",
    "print ('done')\n",
    "                "
   ]
  },
  {
   "cell_type": "code",
   "execution_count": 3,
   "metadata": {},
   "outputs": [
    {
     "name": "stdout",
     "output_type": "stream",
     "text": [
      "Counter({'離岸': 20, '台灣': 19, '經濟部': 11, '投資': 10, '風電': 9, '公投': 8, '購費率': 7, '價格': 7, '太陽能': 7, '能源': 6, '經濟': 6, '產業': 6, '業者': 6, '成長': 5, '基礎': 5, '沃旭': 5, '調降': 5, '報導': 5, '推動': 4, '風力': 4, '風場': 4, '彰化': 4, '沈榮津': 4, '零零': 4, '貿易': 4, '費率': 4, '發展': 3, '天力': 3, '相關': 3, '海基': 3, '水下': 3, '二零二': 3, '審議': 3, '選舉': 3, '二零一': 3, '行政院': 3, '非核': 3, '核養': 3, '家園': 3, '再生能源': 3, '協議': 3, '工業': 2, '天然': 2, '合作': 2, '千瓦': 2, '完工': 2, '機葉': 2, '中鋼': 2, '興達': 2, '合約': 2, '太陽光': 2, '人才': 2, '媒體': 2, '購電': 2, '時程': 2, '時間': 2, '零九': 2, '總統': 2, '結果': 2, '意見': 2, '延役': 2, '規定': 2, '除役': 2, '審查': 2, '廠商': 2, '政府': 2, '影響': 2, '蘋果': 2, '總處': 2, '主計': 2, '預測': 2, '今年': 2, '企業': 2, '綠能': 2, '預告': 2, '預期': 2, '林巧雁': 2, '中國': 2, '一零': 2, '九元': 2, '加拿大': 2, '加國': 2, '方慧蘭': 2, '善意': 2, '立委': 2, '台加': 2, '雙方': 2, '光電': 2, '能源需求': 1, '人類': 1, '不斷': 1, '全球': 1, '效率': 1, '技術': 1, '大廠': 1, '創新': 1, '我國': 1, '英國': 1, '拜訪': 1, '葉片': 1, '轉型': 1, '亞洲': 1, '專業區': 1, '纖維': 1, '台中港': 1, '七日': 1, '創造': 1, '風電葉片': 1, '電葉片': 1, '產值': 1, '機會': 1, '架式': 1, '第一': 1, '世界': 1, '這麼': 1, '氣電廠': 1, '電板': 1, '電廠': 1, '大葉大學': 1, '獲得': 1, '經驗': 1, '學徒': 1, '課程': 1, '進入': 1, '公室': 1, '李立偉': 1, '縣府': 1, '外商': 1, '簽訂': 1, '計畫': 1, '公告': 1, '價費率': 1, '委員': 1, '專業': 1, '本土化': 1, '本土': 1, '採購': 1, '市場': 1, '發電': 1, '風速': 1, '鹿威': 1, '彰濱': 1, '即時': 1, '新聞': 1, '台電': 1, '發商': 1, '風電國產化': 1, '報告': 1, '問題': 1, '外國開': 1, '覺得國': 1, '台股': 1, '漲幅': 1, '二三': 1, '觀光': 1, '執政黨': 1, '賴清德': 1, '決定': 1, '施政': 1, '檢討': 1, '市長': 1, '跌幅': 1, '不過': 1, '終場': 1, '收斂': 1, '世紀': 1, '中國大陸': 1, '盤價': 1, '穩定': 1, '美國': 1, '不變': 1, '過關': 1, '強調': 1, '引發': 1, '首長': 1, '部長': 1, '什麼': 1, '二五': 1, '核電廠': 1, '沈榮津答': 1, '政策': 1, '中階技術': 1, '人力': 1, '外國': 1, '草案': 1, '移民法': 1, '新經濟': 1, '引進': 1, '條件': 1, '海纜': 1, '氣象局': 1, '地震': 1, '調查': 1, '公里': 1, '九零': 1, '第三期': 1, '應主動': 1, '台商': 1, '回台': 1, '回流': 1, '地方': 1, '不僅': 1, '明年': 1, '吳音寧': 1, '民進': 1, '進口': 1, '重點': 1, '總經理': 1, '團體': 1, '民間': 1, '下修': 1, '百分': 1, '開發': 1, '開發商': 1, '當初': 1, '丹麥': 1, '外交部': 1, '駐台': 1, '司長': 1, '九月': 1, '國內': 1, '生產': 1, '毛額': 1, '英文': 1, '一休': 1, '檢討會': 1, '沒有': 1, '聽取': 1, '議題': 1, '熱烈': 1, '電力': 1, '未來': 1, '融資': 1, '專案': 1, '銀行': 1, '安侯': 1, '資金': 1, '契約': 1, '官員': 1, '調整': 1, '收購': 1, '高通': 1, '日報': 1, '補助': 1, '揚言': 1, '一二': 1, '易皓瑜': 1, '空污': 1, '機組': 1, '火力': 1, '預估': 1, '營收': 1, '獲利': 1, '第四季': 1, '鋼鐵業': 1, '購價格': 1, '察院': 1, '代表': 1, '增購': 1, '電子': 1, '億元': 1, '設備': 1, '主因': 1, '年增': 1, '組件業': 1, '機器': 1, '回應': 1, '江丙坤': 1, '兩岸': 1, '交保': 1, '鈕承澤': 1, '吳寶春': 1, '辭世': 1, '通過': 1, '電價': 1, '呼籲': 1, '國民黨': 1, '每度': 1, '已經': 1, '漁業署': 1, '補償': 1, '漁業': 1, '同意': 1, '漁會': 1, '這一個': 1, '電業': 1, '登記': 1, '規則': 1, '考慮': 1, '洽談': 1, '連結': 1, '簽署': 1, '龔明鑫': 1, '經貿': 1, '會議': 1, '加方': 1, '顧立雄': 1, '證券化': 1, '籌資': 1, '掛牌': 1, '行人': 1, '資產': 1, '透過': 1, '足見': 1, '開始': 1, '單晶': 1, '矽晶圓': 1, '結二零': 1, '購電費': 1, '來源': 1, '太陽': 1, '公會': 1, '成本': 1, '人員': 1, '模組': 1, '計價': 1, '計算': 1, '聽證會': 1, '從業': 1, '許多業者': 1})\n"
     ]
    }
   ],
   "source": [
    "from collections import Counter\n",
    "\n",
    "counts = Counter(words_list)\n",
    "print(counts)"
   ]
  },
  {
   "cell_type": "code",
   "execution_count": 4,
   "metadata": {},
   "outputs": [
    {
     "ename": "OSError",
     "evalue": "cannot open resource",
     "output_type": "error",
     "traceback": [
      "\u001b[1;31m---------------------------------------------------------------------------\u001b[0m",
      "\u001b[1;31mOSError\u001b[0m                                   Traceback (most recent call last)",
      "\u001b[1;32m<ipython-input-4-0f6dd74648d5>\u001b[0m in \u001b[0;36m<module>\u001b[1;34m\u001b[0m\n\u001b[0;32m     19\u001b[0m                stopwords=stopwords)      #停用字詞\n\u001b[0;32m     20\u001b[0m \u001b[1;33m\u001b[0m\u001b[0m\n\u001b[1;32m---> 21\u001b[1;33m \u001b[0mwc\u001b[0m\u001b[1;33m.\u001b[0m\u001b[0mgenerate\u001b[0m\u001b[1;33m(\u001b[0m\u001b[0mtext\u001b[0m\u001b[1;33m)\u001b[0m\u001b[1;33m\u001b[0m\u001b[1;33m\u001b[0m\u001b[0m\n\u001b[0m\u001b[0;32m     22\u001b[0m \u001b[1;33m\u001b[0m\u001b[0m\n\u001b[0;32m     23\u001b[0m \u001b[1;31m# 視覺化呈現\u001b[0m\u001b[1;33m\u001b[0m\u001b[1;33m\u001b[0m\u001b[1;33m\u001b[0m\u001b[0m\n",
      "\u001b[1;32md:\\Anaconda3\\envs\\envNews\\lib\\site-packages\\wordcloud\\wordcloud.py\u001b[0m in \u001b[0;36mgenerate\u001b[1;34m(self, text)\u001b[0m\n\u001b[0;32m    603\u001b[0m         \u001b[0mself\u001b[0m\u001b[1;33m\u001b[0m\u001b[1;33m\u001b[0m\u001b[0m\n\u001b[0;32m    604\u001b[0m         \"\"\"\n\u001b[1;32m--> 605\u001b[1;33m         \u001b[1;32mreturn\u001b[0m \u001b[0mself\u001b[0m\u001b[1;33m.\u001b[0m\u001b[0mgenerate_from_text\u001b[0m\u001b[1;33m(\u001b[0m\u001b[0mtext\u001b[0m\u001b[1;33m)\u001b[0m\u001b[1;33m\u001b[0m\u001b[1;33m\u001b[0m\u001b[0m\n\u001b[0m\u001b[0;32m    606\u001b[0m \u001b[1;33m\u001b[0m\u001b[0m\n\u001b[0;32m    607\u001b[0m     \u001b[1;32mdef\u001b[0m \u001b[0m_check_generated\u001b[0m\u001b[1;33m(\u001b[0m\u001b[0mself\u001b[0m\u001b[1;33m)\u001b[0m\u001b[1;33m:\u001b[0m\u001b[1;33m\u001b[0m\u001b[1;33m\u001b[0m\u001b[0m\n",
      "\u001b[1;32md:\\Anaconda3\\envs\\envNews\\lib\\site-packages\\wordcloud\\wordcloud.py\u001b[0m in \u001b[0;36mgenerate_from_text\u001b[1;34m(self, text)\u001b[0m\n\u001b[0;32m    585\u001b[0m         \"\"\"\n\u001b[0;32m    586\u001b[0m         \u001b[0mwords\u001b[0m \u001b[1;33m=\u001b[0m \u001b[0mself\u001b[0m\u001b[1;33m.\u001b[0m\u001b[0mprocess_text\u001b[0m\u001b[1;33m(\u001b[0m\u001b[0mtext\u001b[0m\u001b[1;33m)\u001b[0m\u001b[1;33m\u001b[0m\u001b[1;33m\u001b[0m\u001b[0m\n\u001b[1;32m--> 587\u001b[1;33m         \u001b[0mself\u001b[0m\u001b[1;33m.\u001b[0m\u001b[0mgenerate_from_frequencies\u001b[0m\u001b[1;33m(\u001b[0m\u001b[0mwords\u001b[0m\u001b[1;33m)\u001b[0m\u001b[1;33m\u001b[0m\u001b[1;33m\u001b[0m\u001b[0m\n\u001b[0m\u001b[0;32m    588\u001b[0m         \u001b[1;32mreturn\u001b[0m \u001b[0mself\u001b[0m\u001b[1;33m\u001b[0m\u001b[1;33m\u001b[0m\u001b[0m\n\u001b[0;32m    589\u001b[0m \u001b[1;33m\u001b[0m\u001b[0m\n",
      "\u001b[1;32md:\\Anaconda3\\envs\\envNews\\lib\\site-packages\\wordcloud\\wordcloud.py\u001b[0m in \u001b[0;36mgenerate_from_frequencies\u001b[1;34m(self, frequencies, max_font_size)\u001b[0m\n\u001b[0;32m    424\u001b[0m             \u001b[1;32melse\u001b[0m\u001b[1;33m:\u001b[0m\u001b[1;33m\u001b[0m\u001b[1;33m\u001b[0m\u001b[0m\n\u001b[0;32m    425\u001b[0m                 self.generate_from_frequencies(dict(frequencies[:2]),\n\u001b[1;32m--> 426\u001b[1;33m                                                max_font_size=self.height)\n\u001b[0m\u001b[0;32m    427\u001b[0m                 \u001b[1;31m# find font sizes\u001b[0m\u001b[1;33m\u001b[0m\u001b[1;33m\u001b[0m\u001b[1;33m\u001b[0m\u001b[0m\n\u001b[0;32m    428\u001b[0m                 \u001b[0msizes\u001b[0m \u001b[1;33m=\u001b[0m \u001b[1;33m[\u001b[0m\u001b[0mx\u001b[0m\u001b[1;33m[\u001b[0m\u001b[1;36m1\u001b[0m\u001b[1;33m]\u001b[0m \u001b[1;32mfor\u001b[0m \u001b[0mx\u001b[0m \u001b[1;32min\u001b[0m \u001b[0mself\u001b[0m\u001b[1;33m.\u001b[0m\u001b[0mlayout_\u001b[0m\u001b[1;33m]\u001b[0m\u001b[1;33m\u001b[0m\u001b[1;33m\u001b[0m\u001b[0m\n",
      "\u001b[1;32md:\\Anaconda3\\envs\\envNews\\lib\\site-packages\\wordcloud\\wordcloud.py\u001b[0m in \u001b[0;36mgenerate_from_frequencies\u001b[1;34m(self, frequencies, max_font_size)\u001b[0m\n\u001b[0;32m    471\u001b[0m             \u001b[1;32mwhile\u001b[0m \u001b[1;32mTrue\u001b[0m\u001b[1;33m:\u001b[0m\u001b[1;33m\u001b[0m\u001b[1;33m\u001b[0m\u001b[0m\n\u001b[0;32m    472\u001b[0m                 \u001b[1;31m# try to find a position\u001b[0m\u001b[1;33m\u001b[0m\u001b[1;33m\u001b[0m\u001b[1;33m\u001b[0m\u001b[0m\n\u001b[1;32m--> 473\u001b[1;33m                 \u001b[0mfont\u001b[0m \u001b[1;33m=\u001b[0m \u001b[0mImageFont\u001b[0m\u001b[1;33m.\u001b[0m\u001b[0mtruetype\u001b[0m\u001b[1;33m(\u001b[0m\u001b[0mself\u001b[0m\u001b[1;33m.\u001b[0m\u001b[0mfont_path\u001b[0m\u001b[1;33m,\u001b[0m \u001b[0mfont_size\u001b[0m\u001b[1;33m)\u001b[0m\u001b[1;33m\u001b[0m\u001b[1;33m\u001b[0m\u001b[0m\n\u001b[0m\u001b[0;32m    474\u001b[0m                 \u001b[1;31m# transpose font optionally\u001b[0m\u001b[1;33m\u001b[0m\u001b[1;33m\u001b[0m\u001b[1;33m\u001b[0m\u001b[0m\n\u001b[0;32m    475\u001b[0m                 transposed_font = ImageFont.TransposedFont(\n",
      "\u001b[1;32md:\\Anaconda3\\envs\\envNews\\lib\\site-packages\\PIL\\ImageFont.py\u001b[0m in \u001b[0;36mtruetype\u001b[1;34m(font, size, index, encoding, layout_engine)\u001b[0m\n\u001b[0;32m    278\u001b[0m \u001b[1;33m\u001b[0m\u001b[0m\n\u001b[0;32m    279\u001b[0m     \u001b[1;32mtry\u001b[0m\u001b[1;33m:\u001b[0m\u001b[1;33m\u001b[0m\u001b[1;33m\u001b[0m\u001b[0m\n\u001b[1;32m--> 280\u001b[1;33m         \u001b[1;32mreturn\u001b[0m \u001b[0mFreeTypeFont\u001b[0m\u001b[1;33m(\u001b[0m\u001b[0mfont\u001b[0m\u001b[1;33m,\u001b[0m \u001b[0msize\u001b[0m\u001b[1;33m,\u001b[0m \u001b[0mindex\u001b[0m\u001b[1;33m,\u001b[0m \u001b[0mencoding\u001b[0m\u001b[1;33m,\u001b[0m \u001b[0mlayout_engine\u001b[0m\u001b[1;33m)\u001b[0m\u001b[1;33m\u001b[0m\u001b[1;33m\u001b[0m\u001b[0m\n\u001b[0m\u001b[0;32m    281\u001b[0m     \u001b[1;32mexcept\u001b[0m \u001b[0mIOError\u001b[0m\u001b[1;33m:\u001b[0m\u001b[1;33m\u001b[0m\u001b[1;33m\u001b[0m\u001b[0m\n\u001b[0;32m    282\u001b[0m         \u001b[0mttf_filename\u001b[0m \u001b[1;33m=\u001b[0m \u001b[0mos\u001b[0m\u001b[1;33m.\u001b[0m\u001b[0mpath\u001b[0m\u001b[1;33m.\u001b[0m\u001b[0mbasename\u001b[0m\u001b[1;33m(\u001b[0m\u001b[0mfont\u001b[0m\u001b[1;33m)\u001b[0m\u001b[1;33m\u001b[0m\u001b[1;33m\u001b[0m\u001b[0m\n",
      "\u001b[1;32md:\\Anaconda3\\envs\\envNews\\lib\\site-packages\\PIL\\ImageFont.py\u001b[0m in \u001b[0;36m__init__\u001b[1;34m(self, font, size, index, encoding, layout_engine)\u001b[0m\n\u001b[0;32m    143\u001b[0m         \u001b[1;32mif\u001b[0m \u001b[0misPath\u001b[0m\u001b[1;33m(\u001b[0m\u001b[0mfont\u001b[0m\u001b[1;33m)\u001b[0m\u001b[1;33m:\u001b[0m\u001b[1;33m\u001b[0m\u001b[1;33m\u001b[0m\u001b[0m\n\u001b[0;32m    144\u001b[0m             self.font = core.getfont(font, size, index, encoding,\n\u001b[1;32m--> 145\u001b[1;33m                                      layout_engine=layout_engine)\n\u001b[0m\u001b[0;32m    146\u001b[0m         \u001b[1;32melse\u001b[0m\u001b[1;33m:\u001b[0m\u001b[1;33m\u001b[0m\u001b[1;33m\u001b[0m\u001b[0m\n\u001b[0;32m    147\u001b[0m             \u001b[0mself\u001b[0m\u001b[1;33m.\u001b[0m\u001b[0mfont_bytes\u001b[0m \u001b[1;33m=\u001b[0m \u001b[0mfont\u001b[0m\u001b[1;33m.\u001b[0m\u001b[0mread\u001b[0m\u001b[1;33m(\u001b[0m\u001b[1;33m)\u001b[0m\u001b[1;33m\u001b[0m\u001b[1;33m\u001b[0m\u001b[0m\n",
      "\u001b[1;31mOSError\u001b[0m: cannot open resource"
     ]
    }
   ],
   "source": [
    "import numpy as np\n",
    "import matplotlib.pyplot as plt\n",
    "from wordcloud import WordCloud, STOPWORDS, ImageColorGenerator\n",
    "\n",
    "my_color_fig = np.array(Image.open(\"aaa.jpg\"))\n",
    "image_colors = ImageColorGenerator(my_color_fig)\n",
    "\n",
    "text = ','.join(words_list)\n",
    "\n",
    "# 設定停用字(排除常用詞、無法代表特殊意義的字詞)\n",
    "stopwords = {}.fromkeys([\"沒有\",\"一個\",\"什麼\",\"那個\",\"二零一\",\"二零二\",\"零零\"])\n",
    "\n",
    "# 產生文字雲\n",
    "wc = WordCloud(font_path=\"NotoSansCJKtc-Bold.otf\", #設置字體\n",
    "               background_color=\"white\", #背景顏色\n",
    "               max_words = 250 ,        #文字雲顯示最大詞數\n",
    "               width=1600,\n",
    "               height=800,\n",
    "               stopwords=stopwords)      #停用字詞\n",
    "\n",
    "wc.generate(text)\n",
    "\n",
    "# 視覺化呈現\n",
    "plt.figure(figsize=(20,10), dpi = 200)\n",
    "plt.imshow(wc.recolor(color_func=image_colors), interpolation=\"bilinear\")\n",
    "plt.axis(\"off\")\n",
    "plt.savefig('wordcloud.png', bbox_inches='tight', dpi = 200)\n",
    "plt.show()\n",
    "# wc.to_file(\"first_review.png\")"
   ]
  },
  {
   "cell_type": "code",
   "execution_count": null,
   "metadata": {},
   "outputs": [],
   "source": []
  }
 ],
 "metadata": {
  "kernelspec": {
   "display_name": "Python 3",
   "language": "python",
   "name": "python3"
  },
  "language_info": {
   "codemirror_mode": {
    "name": "ipython",
    "version": 3
   },
   "file_extension": ".py",
   "mimetype": "text/x-python",
   "name": "python",
   "nbconvert_exporter": "python",
   "pygments_lexer": "ipython3",
   "version": "3.6.5"
  }
 },
 "nbformat": 4,
 "nbformat_minor": 2
}
